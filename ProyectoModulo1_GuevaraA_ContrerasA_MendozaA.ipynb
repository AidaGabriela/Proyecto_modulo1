{
 "cells": [
  {
   "cell_type": "markdown",
   "metadata": {
    "collapsed": true
   },
   "source": [
    "# Título"
   ]
  },
  {
   "cell_type": "markdown",
   "metadata": {},
   "source": [
    "Programación lineal para optimización de bonos"
   ]
  },
  {
   "cell_type": "markdown",
   "metadata": {},
   "source": [
    "## Objetivos"
   ]
  },
  {
   "cell_type": "markdown",
   "metadata": {},
   "source": [
    "### Objetivo general"
   ]
  },
  {
   "cell_type": "markdown",
   "metadata": {},
   "source": [
    "Aplicar los contenidos de la clase \" Simulación Matemática\" para distribuir la cantidad de bonos a pagar durante un periodo de 6 años para cumplir con obligaciones financieras de manera óptima."
   ]
  },
  {
   "cell_type": "markdown",
   "metadata": {},
   "source": [
    "### Objetivos específicos"
   ]
  },
  {
   "cell_type": "markdown",
   "metadata": {},
   "source": [
    "* A través del método matemático de **Programación Lineal** y del lenguaje de programación Python 3, optimizar una serie de datos previamente obtenidos de bonos para el pago de obligaciones en base las restricciones por el precio y cupón de cada bono."
   ]
  },
  {
   "cell_type": "markdown",
   "metadata": {},
   "source": [
    "* Detectar la manera en la que se puede distribuir de mejor manera el pago de dichos bonos, para que de esta manera las obligaciones a pagar sean cumplidas de la mejor manera posible."
   ]
  },
  {
   "cell_type": "markdown",
   "metadata": {
    "collapsed": true
   },
   "source": [
    "### Modelo que representa el problema "
   ]
  },
  {
   "cell_type": "markdown",
   "metadata": {},
   "source": [
    "La ecuación que se busca maximizar es:\n",
    "    $$\\max 109 x_1 + 94.8 x_2 + 99.5 x_3 + 93.1 x_4 + 97.2 x_5 + 92.9 x_6+ 110 x_7 + 104 x_8 + 102 x_9+ 95.2 x_.10  $$"
   ]
  },
  {
   "cell_type": "markdown",
   "metadata": {},
   "source": [
    "Las restricciones estarían dadas por el siguiente conjunto de ecuaciones:\n",
    "\n",
    "$10 x_1+ 7 x_2+ 8 x_3+ 6 x_4+ 7 x_5+ 5 x_6+ 10 x_7+ 8 x_8+ 7 x_9+ 100 x_.10 \\geq 100.00$ \n",
    "\n",
    "$10 x_1+ 7 x_2+ 8 x_3+ 6 x_4+ 7 x_5+ 5 x_6+ 10 x_7+ 8 x_8+ 107 x_9 \\geq 200.00$ \n",
    "\n",
    "$10 x_1+ 7 x_2+ 8 x_3+ 6 x_4+ 7 x_5+ 5 x_6+ 110 x_7+ 108 x_8 \\geq 800.00$ \n",
    "\n",
    "$10 x_1+ 7 x_2+ 8 x_3+ 6 x_4+ 7 x_5+ 105 x_6 \\geq 100.00$ \n",
    "\n",
    "$10 x_1+ 7 x_2+ 8 x_3+ 106 x_4+ 107 x_5 \\geq 800.00$ \n",
    "\n",
    "$110 x_1+ 107 x_2+ 108 x_3 \\geq 1200.00$ \n",
    "\n",
    "Las restricciones anteriores sólo siguen los lineamientos planteados para cumplir con los requierimientos de bonos."
   ]
  },
  {
   "cell_type": "markdown",
   "metadata": {},
   "source": [
    "### Situación que representa el modelo"
   ]
  },
  {
   "cell_type": "markdown",
   "metadata": {},
   "source": [
    "Lo que pretende este modelo es pagar obligaciones financieras a través de la inversión en bonos, para lo cual se eligen 10 de estos con precio y cupones distintos que tienen un plazo de 6 años. "
   ]
  },
  {
   "cell_type": "markdown",
   "metadata": {},
   "source": [
    "### Limitaciones"
   ]
  },
  {
   "cell_type": "markdown",
   "metadata": {},
   "source": [
    "* El precio, cupón y rendimiento de cada bono son mayor a cero.\n",
    " \n",
    "* El rendimiento final de cada bono deber ser mayor o igual a la obligación correspondiente a cada año. \n",
    "* El periodo de tiempo es de 6 años."
   ]
  },
  {
   "cell_type": "markdown",
   "metadata": {},
   "source": [
    "### Significado y valor de los parámetros"
   ]
  },
  {
   "cell_type": "markdown",
   "metadata": {},
   "source": [
    "* En el caso de la función objetivo (vector \"c\"), los parámetros representan el precio de cada uno de los 10 bonos en los que se invierte."
   ]
  },
  {
   "cell_type": "markdown",
   "metadata": {},
   "source": [
    "* Por otra parte, los parámetros que conforman la matriz  la matriz  representan los cupones que se generan a lo largo de los 6 años."
   ]
  },
  {
   "cell_type": "markdown",
   "metadata": {},
   "source": [
    "* Por ultimo, los parámetros del vector “b” hacen referencia a la obligación a pagar en cada uno de los años transcurridos en el periodo de tiempo fijado"
   ]
  },
  {
   "cell_type": "code",
   "execution_count": null,
   "metadata": {
    "collapsed": true
   },
   "outputs": [],
   "source": [
    "import numpy as np\n",
    "from scipy.optimize import linprog\n",
    "from numpy.linalg import solve\n",
    "import scipy.optimize as opt\n",
    "import matplotlib.pyplot as plt\n",
    "%matplotlib inline"
   ]
  },
  {
   "cell_type": "code",
   "execution_count": 2,
   "metadata": {
    "collapsed": true
   },
   "outputs": [],
   "source": [
    "A= np.array([\n",
    "             [-10,-7,-8,-6,-7,-5,-10,-8,-7,-100],\n",
    "             [-10,-7,-8,-6,-7,-5,-10,-8,-107,0],\n",
    "             [-10,-7,-8,-6,-7,-5,-110,-108,0,0],\n",
    "             [-10,-7,-8,-6,-7,-105,0,0,0,0],\n",
    "             [-10,-7,-8,-106,-107,0,0,0,0,0],\n",
    "             [-110,-107,-108,-0,0,0,0,0,0,0]\n",
    "                                      ])\n",
    "b= np.array([-100,-200,-800,-100,-800,-1200])\n",
    "c = np.array([109,94.8,99.5,93.1,97.2,92.9,110,104,102,95.2])\n",
    "x1_cota = (0, None)\n",
    "x2_cota = (0, None)\n",
    "x3_cota = (0, None)\n",
    "x4_cota = (0, None)\n",
    "x5_cota = (0, None)\n",
    "x6_cota = (0, None)\n",
    "x7_cota = (0, None)\n",
    "x8_cota = (0, None)\n",
    "x9_cota = (0, None)\n",
    "x10_cota = (0, None)"
   ]
  },
  {
   "cell_type": "code",
   "execution_count": 3,
   "metadata": {
    "collapsed": true
   },
   "outputs": [],
   "source": [
    "res_bonos = opt.linprog(c, A_ub=A, b_ub=b, bounds = (x1_cota,x2_cota,x3_cota,x4_cota,x5_cota,x6_cota,x7_cota,x8_cota,x9_cota,x10_cota))"
   ]
  },
  {
   "cell_type": "code",
   "execution_count": 11,
   "metadata": {},
   "outputs": [
    {
     "data": {
      "text/plain": [
       "     fun: 2381.1388298203824\n",
       " message: 'Optimization terminated successfully.'\n",
       "     nit: 9\n",
       "   slack: array([ 71.74111374,   0.        ,   0.        ,  19.34403104,\n",
       "         0.        ,   0.        ])\n",
       "  status: 0\n",
       " success: True\n",
       "       x: array([  0.        ,  11.21495327,   0.        ,   6.80655969,\n",
       "         0.        ,   0.        ,   0.        ,   6.30237008,\n",
       "         0.28258886,   0.        ])"
      ]
     },
     "execution_count": 11,
     "metadata": {},
     "output_type": "execute_result"
    }
   ],
   "source": [
    "res_bonos"
   ]
  },
  {
   "cell_type": "markdown",
   "metadata": {
    "collapsed": true
   },
   "source": []
  },
  {
   "cell_type": "markdown",
   "metadata": {},
   "source": []
  },
  {
   "cell_type": "code",
   "execution_count": null,
   "metadata": {
    "collapsed": true
   },
   "outputs": [],
   "source": []
  },
  {
   "cell_type": "code",
   "execution_count": null,
   "metadata": {
    "collapsed": true
   },
   "outputs": [],
   "source": []
  }
 ],
 "metadata": {
  "kernelspec": {
   "display_name": "Python 3",
   "language": "python",
   "name": "python3"
  },
  "language_info": {
   "codemirror_mode": {
    "name": "ipython",
    "version": 3
   },
   "file_extension": ".py",
   "mimetype": "text/x-python",
   "name": "python",
   "nbconvert_exporter": "python",
   "pygments_lexer": "ipython3",
   "version": "3.6.3"
  }
 },
 "nbformat": 4,
 "nbformat_minor": 2
}
